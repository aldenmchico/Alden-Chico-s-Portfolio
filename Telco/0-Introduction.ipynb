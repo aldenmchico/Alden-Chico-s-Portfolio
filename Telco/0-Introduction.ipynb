{
 "cells": [
  {
   "cell_type": "markdown",
   "metadata": {},
   "source": [
    "# Telco Customer Churn: Introduction\n",
    "## Problem Statement\n",
    "### Alden Chico"
   ]
  },
  {
   "cell_type": "markdown",
   "metadata": {},
   "source": [
    "---"
   ]
  },
  {
   "cell_type": "markdown",
   "metadata": {},
   "source": [
    "## Premise"
   ]
  },
  {
   "cell_type": "markdown",
   "metadata": {},
   "source": [
    "Josh Pigford, founder of data analytics company Baremetrics, once said that \"if churn isn't in the single digits, it's absolutely the only thing you should be focusing on.\" Customer churn is an important concept for all services to take into consideration, but what exactly is it? Churn is turnover; it's the rate at which customers are leaving a service with respect to the entire user population. Companies need to focus their efforts in reducing customer churn to ensure the company's financial stability for their stakeholders.\n",
    "\n",
    "Having the ability to flag users who are at risk of churning is crucial for targetting users in retention incentive programs. These programs can come in the form of coupons, discounts, etc., but the main goal is to keep users paying for the company's services. In a publicly available dataset hosted on Kaggle, a telecommunication company, Telco, has publicized a subset of their user's profile information with the churn status indicated for each user. \n",
    "\n",
    "The goal for this project is to use statistical analysis and machine learning techniques to create a predictive model that can flag users that are at risk of churning and to offer helpful advice to key decision makers at Telco on how to improve customer retention. The impact for this project can save Telco hundreds of thousands of dollars by lowering the overall churn rate among their userbase."
   ]
  },
  {
   "cell_type": "markdown",
   "metadata": {},
   "source": [
    "---"
   ]
  },
  {
   "cell_type": "markdown",
   "metadata": {},
   "source": [
    "## Data"
   ]
  },
  {
   "cell_type": "markdown",
   "metadata": {},
   "source": [
    "The data for this project comes from the <a href=\"https://www.kaggle.com/blastchar/telco-customer-churn\">Telco Customer Churn</a> dataset hosted on Kaggle’s website. The dataset includes personal information for each user like their gender and marital status along with service based information like phone and telephone line subscriptions. The churn column will be our target for data predictions to flag users that are at risk of churning."
   ]
  },
  {
   "cell_type": "markdown",
   "metadata": {},
   "source": [
    "---"
   ]
  },
  {
   "cell_type": "markdown",
   "metadata": {},
   "source": [
    "## Method"
   ]
  },
  {
   "cell_type": "markdown",
   "metadata": {},
   "source": [
    "1. Clean the dataset and perform EDA to extrapolate the most important features from the dataset.\n",
    "\n",
    "2. Compare the performance of logistic regression, decision trees, and random forest classification to find an appropriate model to predict customer churn.\n",
    "\n",
    "3. Build a neural network model to predict customer churn and compare to the results for the classical machine learning techniques.\n",
    "\n",
    "4. Reexamine the data if needed.\n"
   ]
  },
  {
   "cell_type": "markdown",
   "metadata": {},
   "source": [
    "---"
   ]
  },
  {
   "cell_type": "markdown",
   "metadata": {},
   "source": [
    "## Deliverables"
   ]
  },
  {
   "cell_type": "markdown",
   "metadata": {},
   "source": [
    "The project deliverables are a predictive model that can flag users at risk of churning from Telco's database and business related advice for how Telco should proceed with customer retention. All progress and insights for this project will be reported on my <a href=\"http://www.github.com/aldenmchico/\">GitHub</a> and <a href=\"http://www.github.io/aldenmchico/Alden-Blog/\">GitHub Blog</a>."
   ]
  }
 ],
 "metadata": {
  "kernelspec": {
   "display_name": "Python [conda env:telco]",
   "language": "python",
   "name": "conda-env-telco-py"
  },
  "language_info": {
   "codemirror_mode": {
    "name": "ipython",
    "version": 3
   },
   "file_extension": ".py",
   "mimetype": "text/x-python",
   "name": "python",
   "nbconvert_exporter": "python",
   "pygments_lexer": "ipython3",
   "version": "3.7.5"
  }
 },
 "nbformat": 4,
 "nbformat_minor": 2
}

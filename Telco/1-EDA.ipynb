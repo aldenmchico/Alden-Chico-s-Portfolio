{
 "cells": [
  {
   "cell_type": "markdown",
   "metadata": {},
   "source": [
    "# 1 - Telco Customer Churn: Exploratory Data Analysis\n",
    "## Data Cleanup\n",
    "### Alden Chico"
   ]
  },
  {
   "cell_type": "markdown",
   "metadata": {},
   "source": [
    "---"
   ]
  },
  {
   "cell_type": "markdown",
   "metadata": {},
   "source": [
    "## Premise"
   ]
  },
  {
   "cell_type": "markdown",
   "metadata": {},
   "source": [
    "As we stated from our introduction, predicting customer churn for a service based company is one of, if not the most important metric for a company to measure. For a telecommunication company like Telco, the entire company's infrastructure and budget lies with the retention of their growing user base. But before we can start modeling the data and flagging churn risk users from the given dataset, we need to clean the data and perform some cursory analysis.\n",
    "\n",
    "The first step we'll take with this dataset is cleaning all features from missing data. After we clean the data, we'll one hot encode and analyze the categorical features from the dataset. One hot encoding is the act of converting discrete categories from data into numerical values that a predictive model can interpret. In addition, we can also perform feature selection on these categorical features to filter  unimportant features that lower model performance.\n",
    "\n",
    "After selecting categorical features, the next step is to analyze the numerical features in the dataset. We'll plot the distribution of the numerical features and observe the data distribution. If the numerical data isn't normal, we'll attempt to normalize the data via column wide data transformations which should improve predictive model performance. By the end of this article, we'll compile the cleaned dataset into a single Pandas DataFrame and save it to a CSV file that we can use for predictive modeling. There's a lot to do, so let's begin."
   ]
  },
  {
   "cell_type": "markdown",
   "metadata": {},
   "source": [
    "---"
   ]
  },
  {
   "cell_type": "markdown",
   "metadata": {},
   "source": [
    "## Data Cleaning"
   ]
  },
  {
   "cell_type": "markdown",
   "metadata": {},
   "source": [
    "The first step in performing our EDA is imputing appropriate values from missing data in our dataset. We'll import the data from our CSV file using the Pandas library and retrieve basic information from the imported DataFrame."
   ]
  },
  {
   "cell_type": "code",
   "execution_count": 1,
   "metadata": {},
   "outputs": [],
   "source": [
    "import pandas as pd\n",
    "import numpy as np"
   ]
  },
  {
   "cell_type": "code",
   "execution_count": 2,
   "metadata": {
    "scrolled": false
   },
   "outputs": [
    {
     "data": {
      "text/html": [
       "<div>\n",
       "<style scoped>\n",
       "    .dataframe tbody tr th:only-of-type {\n",
       "        vertical-align: middle;\n",
       "    }\n",
       "\n",
       "    .dataframe tbody tr th {\n",
       "        vertical-align: top;\n",
       "    }\n",
       "\n",
       "    .dataframe thead th {\n",
       "        text-align: right;\n",
       "    }\n",
       "</style>\n",
       "<table border=\"1\" class=\"dataframe\">\n",
       "  <thead>\n",
       "    <tr style=\"text-align: right;\">\n",
       "      <th></th>\n",
       "      <th>customerID</th>\n",
       "      <th>gender</th>\n",
       "      <th>SeniorCitizen</th>\n",
       "      <th>Partner</th>\n",
       "      <th>Dependents</th>\n",
       "      <th>tenure</th>\n",
       "      <th>PhoneService</th>\n",
       "      <th>MultipleLines</th>\n",
       "      <th>InternetService</th>\n",
       "      <th>OnlineSecurity</th>\n",
       "      <th>...</th>\n",
       "      <th>DeviceProtection</th>\n",
       "      <th>TechSupport</th>\n",
       "      <th>StreamingTV</th>\n",
       "      <th>StreamingMovies</th>\n",
       "      <th>Contract</th>\n",
       "      <th>PaperlessBilling</th>\n",
       "      <th>PaymentMethod</th>\n",
       "      <th>MonthlyCharges</th>\n",
       "      <th>TotalCharges</th>\n",
       "      <th>Churn</th>\n",
       "    </tr>\n",
       "  </thead>\n",
       "  <tbody>\n",
       "    <tr>\n",
       "      <th>0</th>\n",
       "      <td>7590-VHVEG</td>\n",
       "      <td>Female</td>\n",
       "      <td>0</td>\n",
       "      <td>Yes</td>\n",
       "      <td>No</td>\n",
       "      <td>1</td>\n",
       "      <td>No</td>\n",
       "      <td>No phone service</td>\n",
       "      <td>DSL</td>\n",
       "      <td>No</td>\n",
       "      <td>...</td>\n",
       "      <td>No</td>\n",
       "      <td>No</td>\n",
       "      <td>No</td>\n",
       "      <td>No</td>\n",
       "      <td>Month-to-month</td>\n",
       "      <td>Yes</td>\n",
       "      <td>Electronic check</td>\n",
       "      <td>29.85</td>\n",
       "      <td>29.85</td>\n",
       "      <td>No</td>\n",
       "    </tr>\n",
       "    <tr>\n",
       "      <th>1</th>\n",
       "      <td>5575-GNVDE</td>\n",
       "      <td>Male</td>\n",
       "      <td>0</td>\n",
       "      <td>No</td>\n",
       "      <td>No</td>\n",
       "      <td>34</td>\n",
       "      <td>Yes</td>\n",
       "      <td>No</td>\n",
       "      <td>DSL</td>\n",
       "      <td>Yes</td>\n",
       "      <td>...</td>\n",
       "      <td>Yes</td>\n",
       "      <td>No</td>\n",
       "      <td>No</td>\n",
       "      <td>No</td>\n",
       "      <td>One year</td>\n",
       "      <td>No</td>\n",
       "      <td>Mailed check</td>\n",
       "      <td>56.95</td>\n",
       "      <td>1889.5</td>\n",
       "      <td>No</td>\n",
       "    </tr>\n",
       "    <tr>\n",
       "      <th>2</th>\n",
       "      <td>3668-QPYBK</td>\n",
       "      <td>Male</td>\n",
       "      <td>0</td>\n",
       "      <td>No</td>\n",
       "      <td>No</td>\n",
       "      <td>2</td>\n",
       "      <td>Yes</td>\n",
       "      <td>No</td>\n",
       "      <td>DSL</td>\n",
       "      <td>Yes</td>\n",
       "      <td>...</td>\n",
       "      <td>No</td>\n",
       "      <td>No</td>\n",
       "      <td>No</td>\n",
       "      <td>No</td>\n",
       "      <td>Month-to-month</td>\n",
       "      <td>Yes</td>\n",
       "      <td>Mailed check</td>\n",
       "      <td>53.85</td>\n",
       "      <td>108.15</td>\n",
       "      <td>Yes</td>\n",
       "    </tr>\n",
       "    <tr>\n",
       "      <th>3</th>\n",
       "      <td>7795-CFOCW</td>\n",
       "      <td>Male</td>\n",
       "      <td>0</td>\n",
       "      <td>No</td>\n",
       "      <td>No</td>\n",
       "      <td>45</td>\n",
       "      <td>No</td>\n",
       "      <td>No phone service</td>\n",
       "      <td>DSL</td>\n",
       "      <td>Yes</td>\n",
       "      <td>...</td>\n",
       "      <td>Yes</td>\n",
       "      <td>Yes</td>\n",
       "      <td>No</td>\n",
       "      <td>No</td>\n",
       "      <td>One year</td>\n",
       "      <td>No</td>\n",
       "      <td>Bank transfer (automatic)</td>\n",
       "      <td>42.30</td>\n",
       "      <td>1840.75</td>\n",
       "      <td>No</td>\n",
       "    </tr>\n",
       "    <tr>\n",
       "      <th>4</th>\n",
       "      <td>9237-HQITU</td>\n",
       "      <td>Female</td>\n",
       "      <td>0</td>\n",
       "      <td>No</td>\n",
       "      <td>No</td>\n",
       "      <td>2</td>\n",
       "      <td>Yes</td>\n",
       "      <td>No</td>\n",
       "      <td>Fiber optic</td>\n",
       "      <td>No</td>\n",
       "      <td>...</td>\n",
       "      <td>No</td>\n",
       "      <td>No</td>\n",
       "      <td>No</td>\n",
       "      <td>No</td>\n",
       "      <td>Month-to-month</td>\n",
       "      <td>Yes</td>\n",
       "      <td>Electronic check</td>\n",
       "      <td>70.70</td>\n",
       "      <td>151.65</td>\n",
       "      <td>Yes</td>\n",
       "    </tr>\n",
       "  </tbody>\n",
       "</table>\n",
       "<p>5 rows × 21 columns</p>\n",
       "</div>"
      ],
      "text/plain": [
       "   customerID  gender  SeniorCitizen Partner Dependents  tenure PhoneService  \\\n",
       "0  7590-VHVEG  Female              0     Yes         No       1           No   \n",
       "1  5575-GNVDE    Male              0      No         No      34          Yes   \n",
       "2  3668-QPYBK    Male              0      No         No       2          Yes   \n",
       "3  7795-CFOCW    Male              0      No         No      45           No   \n",
       "4  9237-HQITU  Female              0      No         No       2          Yes   \n",
       "\n",
       "      MultipleLines InternetService OnlineSecurity  ... DeviceProtection  \\\n",
       "0  No phone service             DSL             No  ...               No   \n",
       "1                No             DSL            Yes  ...              Yes   \n",
       "2                No             DSL            Yes  ...               No   \n",
       "3  No phone service             DSL            Yes  ...              Yes   \n",
       "4                No     Fiber optic             No  ...               No   \n",
       "\n",
       "  TechSupport StreamingTV StreamingMovies        Contract PaperlessBilling  \\\n",
       "0          No          No              No  Month-to-month              Yes   \n",
       "1          No          No              No        One year               No   \n",
       "2          No          No              No  Month-to-month              Yes   \n",
       "3         Yes          No              No        One year               No   \n",
       "4          No          No              No  Month-to-month              Yes   \n",
       "\n",
       "               PaymentMethod MonthlyCharges  TotalCharges Churn  \n",
       "0           Electronic check          29.85         29.85    No  \n",
       "1               Mailed check          56.95        1889.5    No  \n",
       "2               Mailed check          53.85        108.15   Yes  \n",
       "3  Bank transfer (automatic)          42.30       1840.75    No  \n",
       "4           Electronic check          70.70        151.65   Yes  \n",
       "\n",
       "[5 rows x 21 columns]"
      ]
     },
     "execution_count": 2,
     "metadata": {},
     "output_type": "execute_result"
    }
   ],
   "source": [
    "# Import the Telco churn dataset stored in the CSV file\n",
    "data = pd.read_csv('reference/2-EDA/Telco-Customer-Churn.csv')\n",
    "data.head()"
   ]
  },
  {
   "cell_type": "code",
   "execution_count": 3,
   "metadata": {
    "scrolled": false
   },
   "outputs": [
    {
     "name": "stdout",
     "output_type": "stream",
     "text": [
      "<class 'pandas.core.frame.DataFrame'>\n",
      "RangeIndex: 7043 entries, 0 to 7042\n",
      "Data columns (total 21 columns):\n",
      "customerID          7043 non-null object\n",
      "gender              7043 non-null object\n",
      "SeniorCitizen       7043 non-null int64\n",
      "Partner             7043 non-null object\n",
      "Dependents          7043 non-null object\n",
      "tenure              7043 non-null int64\n",
      "PhoneService        7043 non-null object\n",
      "MultipleLines       7043 non-null object\n",
      "InternetService     7043 non-null object\n",
      "OnlineSecurity      7043 non-null object\n",
      "OnlineBackup        7043 non-null object\n",
      "DeviceProtection    7043 non-null object\n",
      "TechSupport         7043 non-null object\n",
      "StreamingTV         7043 non-null object\n",
      "StreamingMovies     7043 non-null object\n",
      "Contract            7043 non-null object\n",
      "PaperlessBilling    7043 non-null object\n",
      "PaymentMethod       7043 non-null object\n",
      "MonthlyCharges      7043 non-null float64\n",
      "TotalCharges        7043 non-null object\n",
      "Churn               7043 non-null object\n",
      "dtypes: float64(1), int64(2), object(18)\n",
      "memory usage: 1.1+ MB\n"
     ]
    }
   ],
   "source": [
    "data.info()"
   ]
  },
  {
   "cell_type": "markdown",
   "metadata": {},
   "source": [
    "Looking at the info tab for this dataset, we can see that there are 7043 logged users for the service with 21 total columns. Upon initial inspection, there are no columns with null values. However, looking more closely at the data types, the ```TotalCharges``` column consists of object type data, not the expected float64. We should look further in to this..."
   ]
  },
  {
   "cell_type": "code",
   "execution_count": 4,
   "metadata": {
    "scrolled": true
   },
   "outputs": [
    {
     "data": {
      "text/html": [
       "<div>\n",
       "<style scoped>\n",
       "    .dataframe tbody tr th:only-of-type {\n",
       "        vertical-align: middle;\n",
       "    }\n",
       "\n",
       "    .dataframe tbody tr th {\n",
       "        vertical-align: top;\n",
       "    }\n",
       "\n",
       "    .dataframe thead th {\n",
       "        text-align: right;\n",
       "    }\n",
       "</style>\n",
       "<table border=\"1\" class=\"dataframe\">\n",
       "  <thead>\n",
       "    <tr style=\"text-align: right;\">\n",
       "      <th></th>\n",
       "      <th>MonthlyCharges</th>\n",
       "      <th>tenure</th>\n",
       "      <th>TotalCharges</th>\n",
       "    </tr>\n",
       "  </thead>\n",
       "  <tbody>\n",
       "    <tr>\n",
       "      <th>488</th>\n",
       "      <td>52.55</td>\n",
       "      <td>0</td>\n",
       "      <td></td>\n",
       "    </tr>\n",
       "    <tr>\n",
       "      <th>753</th>\n",
       "      <td>20.25</td>\n",
       "      <td>0</td>\n",
       "      <td></td>\n",
       "    </tr>\n",
       "    <tr>\n",
       "      <th>936</th>\n",
       "      <td>80.85</td>\n",
       "      <td>0</td>\n",
       "      <td></td>\n",
       "    </tr>\n",
       "    <tr>\n",
       "      <th>1082</th>\n",
       "      <td>25.75</td>\n",
       "      <td>0</td>\n",
       "      <td></td>\n",
       "    </tr>\n",
       "    <tr>\n",
       "      <th>1340</th>\n",
       "      <td>56.05</td>\n",
       "      <td>0</td>\n",
       "      <td></td>\n",
       "    </tr>\n",
       "  </tbody>\n",
       "</table>\n",
       "</div>"
      ],
      "text/plain": [
       "      MonthlyCharges  tenure TotalCharges\n",
       "488            52.55       0             \n",
       "753            20.25       0             \n",
       "936            80.85       0             \n",
       "1082           25.75       0             \n",
       "1340           56.05       0             "
      ]
     },
     "execution_count": 4,
     "metadata": {},
     "output_type": "execute_result"
    }
   ],
   "source": [
    "# Explore the TotalCharges column\n",
    "data.loc[data.TotalCharges == ' ', ['MonthlyCharges', 'tenure', 'TotalCharges']].head()"
   ]
  },
  {
   "cell_type": "markdown",
   "metadata": {},
   "source": [
    "The ```TotalCharges``` value for a user with 0 months of tenure is left blank. We should fix this issue by assuming a charge for the users who have 0 months of tenure. We'll make this assumption since companies typically charge users for their 1st month of service unless they're provided a 1st month special deal. "
   ]
  },
  {
   "cell_type": "code",
   "execution_count": 5,
   "metadata": {
    "scrolled": false
   },
   "outputs": [
    {
     "data": {
      "text/plain": [
       "MonthlyCharges    52.55\n",
       "tenure                0\n",
       "TotalCharges      52.55\n",
       "Name: 488, dtype: object"
      ]
     },
     "execution_count": 5,
     "metadata": {},
     "output_type": "execute_result"
    }
   ],
   "source": [
    "# Replace the blank TotalCharges with the charge for a single month\n",
    "data.loc[data.TotalCharges==' ', 'TotalCharges'] = data.loc[data.TotalCharges == ' ', \n",
    "                                                            'MonthlyCharges']\n",
    "data.loc[488, ['MonthlyCharges', 'tenure', 'TotalCharges']]"
   ]
  },
  {
   "cell_type": "code",
   "execution_count": 6,
   "metadata": {},
   "outputs": [],
   "source": [
    "# Convert the TotalCharges column from string objects to float\n",
    "data.loc[:, 'TotalCharges'] = data.loc[:, 'TotalCharges'].astype('float64')"
   ]
  },
  {
   "cell_type": "markdown",
   "metadata": {},
   "source": [
    "Lastly, we're going to convert the ```TotalCharges``` column into a floating point data type column since all the ```TotalCharges``` values are now populated with a floating point value."
   ]
  },
  {
   "cell_type": "markdown",
   "metadata": {},
   "source": [
    "---"
   ]
  },
  {
   "cell_type": "markdown",
   "metadata": {},
   "source": [
    "## Categorical Data"
   ]
  },
  {
   "cell_type": "code",
   "execution_count": 7,
   "metadata": {},
   "outputs": [
    {
     "data": {
      "text/plain": [
       "(7043, 17)"
      ]
     },
     "execution_count": 7,
     "metadata": {},
     "output_type": "execute_result"
    }
   ],
   "source": [
    "# Take note of how many categorical columns there are in the table\n",
    "cats = ['object']\n",
    "cat_vars = list(data.select_dtypes(include=cats).columns)\n",
    "cat_data = data[cat_vars]\n",
    "cat_data.shape"
   ]
  },
  {
   "cell_type": "markdown",
   "metadata": {},
   "source": [
    "The dataset has 17 categorical data columns. When it comes to modelling categorical data, it isn't possible to feed the raw string or object into a predictive model. Predictive models only accept numerical values, so we'll have to somehow convert the column full of strings to numerical values.\n",
    "\n",
    "To accomplish this, there's a process known as One Hot Encoding. One Hot Encoding is where all the possible categorical values of a categorical column are separated into their own columns. For a given row, all the columns that were created from the categorical column are set to 0 except for the column associated to the category for that row which is set to 1. This effectively turns the string value for a column into a numerical value that the model can interpret."
   ]
  },
  {
   "cell_type": "markdown",
   "metadata": {},
   "source": [
    "<figure>\n",
    "<img src=\"reference/2-EDA/ohe.png\" class=\"center\" style=\"width:350;height:140;\">\n",
    "<figcaption><center><b>Figure 1: One Hot Encoding</b></center></figcaption>\n",
    "</figure> "
   ]
  },
  {
   "cell_type": "markdown",
   "metadata": {},
   "source": [
    "After One Hot Encoding, it's also a good idea to label encode the target value. Since churn is marked with a Yes/No classification, label encoding will turn the classes into 1/0. Again, predictive models only predict on numerical values, so we need to label encode prior to modelling the data."
   ]
  },
  {
   "cell_type": "code",
   "execution_count": 8,
   "metadata": {
    "scrolled": false
   },
   "outputs": [
    {
     "data": {
      "text/plain": [
       "((4930, 43), (2113, 43), (4930,), (2113,))"
      ]
     },
     "execution_count": 8,
     "metadata": {},
     "output_type": "execute_result"
    }
   ],
   "source": [
    "# Pre-process categorical data for modelling\n",
    "\n",
    "from sklearn.preprocessing import LabelEncoder\n",
    "from sklearn.model_selection import train_test_split\n",
    "\n",
    "# Ignore the DataConversionWarning when converting int to floats\n",
    "import warnings\n",
    "from sklearn.exceptions import DataConversionWarning\n",
    "warnings.filterwarnings(action='ignore', category=DataConversionWarning)\n",
    "\n",
    "# One Hot Encode the variable dataset\n",
    "cust_id = cat_data['customerID']\n",
    "cat_X = cat_data.drop(['Churn', 'customerID'], axis = 1)\n",
    "cat_X['SeniorCitizen'] = data['SeniorCitizen'].astype('str')\n",
    "y = cat_data['Churn']\n",
    "cat_X = pd.get_dummies(cat_X, prefix_sep='_')\n",
    "y = LabelEncoder().fit_transform(y)\n",
    "\n",
    "# Train-Test split the categorical data and target variable\n",
    "cat_X_train, cat_X_test, y_train, y_test = train_test_split(cat_X, y, \n",
    "                                                            test_size=0.3, \n",
    "                                                            random_state = 42)\n",
    "\n",
    "# Print train-test split dataset shapes\n",
    "cat_X_train.shape, cat_X_test.shape, y_train.shape, y_test.shape"
   ]
  },
  {
   "cell_type": "markdown",
   "metadata": {},
   "source": [
    "After processing our categorical data, we can see that one hot encoding expanded the categorical data columns from 17 to 43 different columns. Also, with a 30% test split, there are 4930 data points to train the model on and 2113 data points to test it.\n",
    "\n",
    "So, now that our dataset is prepared for predictive modeling, we can use predictive modeling to classify the most important categorical features. We can accomplish this by measuring the ```feature_importances_``` from an ensemble learning method like random forest classification. Feature importance is a metric determined by the random forest that measures how useful every feature was in decreasing node impurity when splitting features for each decision trees decision boundaries. A greater feature importance score means that the random trees that create a random forest diminshed node impurity the most when splitting on that particular feature versus others."
   ]
  },
  {
   "cell_type": "code",
   "execution_count": 9,
   "metadata": {},
   "outputs": [],
   "source": [
    "# Function that plots confusion matrix / classification report after making predictions\n",
    "\n",
    "import matplotlib.pyplot as plt\n",
    "import seaborn as sns\n",
    "\n",
    "%matplotlib inline\n",
    "\n",
    "from sklearn.metrics import classification_report, confusion_matrix\n",
    "def plot_results(y_test, y_pred):\n",
    "    conf_mat = confusion_matrix(y_test, y_pred)\n",
    "    cm_df = pd.DataFrame(conf_mat, index = ['Did Not Churn', 'Churn'],\n",
    "                      columns = ['Did Not Churn', 'Churn'])\n",
    "    _ = sns.heatmap(cm_df, annot=True, cmap='Blues', fmt='g')\n",
    "    _ = plt.title('Churn Confusion Matrix', fontsize=20)\n",
    "    _ = plt.ylabel('True', fontsize=14)\n",
    "    _ = plt.xlabel('Predicted', fontsize=14)\n",
    "    _ = plt.show()\n",
    "    print(classification_report(y_test, y_pred))"
   ]
  },
  {
   "cell_type": "code",
   "execution_count": 10,
   "metadata": {},
   "outputs": [
    {
     "data": {
      "image/png": "[encoded data removed]",
      "text/plain": [
       "<Figure size 432x288 with 2 Axes>"
      ]
     },
     "metadata": {
      "needs_background": "light"
     },
     "output_type": "display_data"
    },
    {
     "name": "stdout",
     "output_type": "stream",
     "text": [
      "              precision    recall  f1-score   support\n",
      "\n",
      "           0       0.81      0.88      0.84      1539\n",
      "           1       0.57      0.44      0.50       574\n",
      "\n",
      "   micro avg       0.76      0.76      0.76      2113\n",
      "   macro avg       0.69      0.66      0.67      2113\n",
      "weighted avg       0.74      0.76      0.75      2113\n",
      "\n"
     ]
    }
   ],
   "source": [
    "# Predict on a random forest classification model using non-preprocessed training data\n",
    "\n",
    "from sklearn.ensemble import RandomForestClassifier\n",
    "\n",
    "# Create a trained random forest to predict whether or not a user will churn\n",
    "trained_forest = RandomForestClassifier(n_estimators=1000).fit(cat_X_train, y_train)\n",
    "y_pred = trained_forest.predict(cat_X_test)\n",
    "\n",
    "_ = plot_results(y_test, y_pred)"
   ]
  },
  {
   "cell_type": "markdown",
   "metadata": {},
   "source": [
    "The model trained on all the categorical columns of the dataset was able to achieve an F1-score of 0.84 and 0.51 on customers that didn't churn and churned, respectively. Without feature selection, the model's ability to flag users at risk of churning doesn't work much better than simple guessing. To see if there's any improvement with selecting features from the dataset, we'll first take a look at the 10 most important features for random forest classification using the feature importances."
   ]
  },
  {
   "cell_type": "code",
   "execution_count": 11,
   "metadata": {
    "scrolled": true
   },
   "outputs": [
    {
     "data": {
      "image/png": "[encoded data removed]",
      "text/plain": [
       "<Figure size 432x288 with 1 Axes>"
      ]
     },
     "metadata": {
      "needs_background": "light"
     },
     "output_type": "display_data"
    }
   ],
   "source": [
    "# Plot the feature importance value for the 10 most important features\n",
    "\n",
    "feat_importances = pd.Series(trained_forest.feature_importances_, index=cat_X.columns)\n",
    "_ = plt.title('Feature Importance of 10 Most Important Features', fontsize=20)\n",
    "_ = plt.ylabel('Feature')\n",
    "_ = plt.xlabel('Feature Importance')\n",
    "_ = feat_importances.nlargest(10).plot(kind='barh')"
   ]
  },
  {
   "cell_type": "markdown",
   "metadata": {},
   "source": [
    "Using the ```feature_importances_``` attribute, we can observe the 10 most important features for the dataset. Here, the best feature by a large margin in determining whether or not a customer churned was the customers month-to-month contract type. Other notable features are the fact that the user paid through electronic check, the fact that the user did not opt into online security and tech support, and the user's gender. Now that we have the ten most important features, let's now fit and predict another random forest classifier with these ten features."
   ]
  },
  {
   "cell_type": "code",
   "execution_count": 12,
   "metadata": {},
   "outputs": [
    {
     "data": {
      "image/png": "[encoded data removed]",
      "text/plain": [
       "<Figure size 432x288 with 2 Axes>"
      ]
     },
     "metadata": {
      "needs_background": "light"
     },
     "output_type": "display_data"
    },
    {
     "name": "stdout",
     "output_type": "stream",
     "text": [
      "              precision    recall  f1-score   support\n",
      "\n",
      "           0       0.83      0.87      0.85      1539\n",
      "           1       0.61      0.52      0.56       574\n",
      "\n",
      "   micro avg       0.78      0.78      0.78      2113\n",
      "   macro avg       0.72      0.70      0.71      2113\n",
      "weighted avg       0.77      0.78      0.77      2113\n",
      "\n"
     ]
    }
   ],
   "source": [
    "# Predict using the 10 most important categorical features\n",
    "\n",
    "# Ignore the DataConversionWarning when converting int to floats\n",
    "import warnings\n",
    "from sklearn.exceptions import DataConversionWarning\n",
    "warnings.filterwarnings(action='ignore', category=DataConversionWarning)\n",
    "\n",
    "# Reduce the variable dataset to the 10 most important features\n",
    "cat_X_red = cat_X[['MultipleLines_No','Contract_Two year', 'OnlineBackup_No',\n",
    "               'InternetService_Fiber optic', 'gender_Female', 'gender_Male',\n",
    "               'TechSupport_No', 'OnlineSecurity_No', 'PaymentMethod_Electronic check',\n",
    "               'Contract_Month-to-month']]\n",
    "cat_X_red_train, cat_X_red_test, y_train2, y_test2 = train_test_split(cat_X_red, y, \n",
    "                                                                       test_size = 0.30, \n",
    "                                                                       random_state = 42)\n",
    "\n",
    "# Train a random forest on the reduced dataset and predict churn\n",
    "rf = RandomForestClassifier(n_estimators=1000)\n",
    "trained_forest2 = rf.fit(cat_X_red_train, y_train2)\n",
    "y_pred2 = trained_forest2.predict(cat_X_red_test)\n",
    "\n",
    "_ = plot_results(y_test2, y_pred2)"
   ]
  },
  {
   "cell_type": "markdown",
   "metadata": {},
   "source": [
    "The random forest's F1 score for users at risk of churning improved by 5% by using the ten most important features. The F1 score for users that churned using these selected features a performed better on <b>less</b> feature information because the remaining 33 features didn't necessarily add useful information for the model to predict on. We can explore this topic further by modifying the number of features and evaluating the random forest classifier's performance on different numbers of selected features to find the optimal number of selected features for data prediction. "
   ]
  },
  {
   "cell_type": "code",
   "execution_count": 13,
   "metadata": {
    "scrolled": true
   },
   "outputs": [
    {
     "name": "stdout",
     "output_type": "stream",
     "text": [
      "Optimal Number of Features: 10\n",
      "Churned F1-score for 10 Selected Features: 0.5265\n",
      "Churned F1-score for 15 Selected Features: 0.4891\n",
      "Churned F1-score for 20 Selected Features: 0.4897\n",
      "Churned F1-score for 25 Selected Features: 0.4696\n",
      "Churned F1-score for 30 Selected Features: 0.4672\n",
      "Churned F1-score for 35 Selected Features: 0.4765\n",
      "Churned F1-score for 40 Selected Features: 0.4809\n"
     ]
    }
   ],
   "source": [
    "# Find the optimal number of features between 10 and 40 features from the dataset\n",
    "# Use 5 fold cross validation\n",
    "\n",
    "from sklearn.feature_selection import SelectFromModel\n",
    "from sklearn.model_selection import cross_validate\n",
    "import warnings\n",
    "warnings.simplefilter(action='ignore', category=FutureWarning)\n",
    "\n",
    "f1_high = 0\n",
    "f1_list = []\n",
    "for num_features in range(10, 45, 5):\n",
    "    \n",
    "    # Use the Random Forest Classifier to find the best features from given num_features\n",
    "    model = RandomForestClassifier(random_state=42)\n",
    "    model = model.fit(cat_X_train, y_train)\n",
    "    model = SelectFromModel(model, prefit=True, \n",
    "                            max_features=num_features, threshold=-np.inf)\n",
    "    selected_X = model.transform(cat_X_train)\n",
    "\n",
    "    # Cross-validate the random forest on selected X array and return f1 score as results\n",
    "    rf = RandomForestClassifier(n_estimators=1000, random_state=42)\n",
    "    cv_results = cross_validate(rf, selected_X, y_train, cv=5, scoring='f1')\n",
    "    f1 = np.mean(cv_results['test_score'])\n",
    "    f1_list.append(f1)\n",
    "    \n",
    "    # Determine the optimal number of features\n",
    "    if f1 > f1_high:\n",
    "        best_model = model\n",
    "        optimal_feature_num = num_features\n",
    "        f1_high = f1\n",
    "\n",
    "# Print the optimal number of features and the F1 scores for all tested number of features\n",
    "print(f'Optimal Number of Features: {optimal_feature_num}')\n",
    "for num_features, f1 in zip(range(10, 45, 5), f1_list):\n",
    "    print(f'Churned F1-score for {num_features} Selected Features: {f1:.4f}')"
   ]
  },
  {
   "cell_type": "markdown",
   "metadata": {},
   "source": [
    "After performing cross validation on random forest models for 10 to 40 selected features in increments of 5 features, the model with 10 selected features performed best after 5 fold CV. As such, we are going to build our model using these 10 categorical features."
   ]
  },
  {
   "cell_type": "code",
   "execution_count": 14,
   "metadata": {
    "scrolled": true
   },
   "outputs": [],
   "source": [
    "cat_X_all_feat = cat_X\n",
    "support = best_model.get_support()\n",
    "column_list = list(cat_X_train.columns[support])\n",
    "cat_X = cat_X[column_list]"
   ]
  },
  {
   "cell_type": "markdown",
   "metadata": {},
   "source": [
    "## Numerical Data"
   ]
  },
  {
   "cell_type": "code",
   "execution_count": 15,
   "metadata": {},
   "outputs": [
    {
     "data": {
      "text/plain": [
       "(7043, 3)"
      ]
     },
     "execution_count": 15,
     "metadata": {},
     "output_type": "execute_result"
    }
   ],
   "source": [
    "# Retrieve the numerical data columns\n",
    "\n",
    "num_types = ['int16','int32','int64','float16','float32','float64']\n",
    "numerical_vars = list(data.select_dtypes(include=num_types).columns)\n",
    "num_X = data[numerical_vars]\n",
    "\n",
    "num_X = num_X.drop('SeniorCitizen', axis=1)\n",
    "num_X.shape"
   ]
  },
  {
   "cell_type": "code",
   "execution_count": 16,
   "metadata": {
    "scrolled": true
   },
   "outputs": [
    {
     "data": {
      "text/html": [
       "<div>\n",
       "<style scoped>\n",
       "    .dataframe tbody tr th:only-of-type {\n",
       "        vertical-align: middle;\n",
       "    }\n",
       "\n",
       "    .dataframe tbody tr th {\n",
       "        vertical-align: top;\n",
       "    }\n",
       "\n",
       "    .dataframe thead th {\n",
       "        text-align: right;\n",
       "    }\n",
       "</style>\n",
       "<table border=\"1\" class=\"dataframe\">\n",
       "  <thead>\n",
       "    <tr style=\"text-align: right;\">\n",
       "      <th></th>\n",
       "      <th>tenure</th>\n",
       "      <th>MonthlyCharges</th>\n",
       "      <th>TotalCharges</th>\n",
       "    </tr>\n",
       "  </thead>\n",
       "  <tbody>\n",
       "    <tr>\n",
       "      <th>0</th>\n",
       "      <td>1</td>\n",
       "      <td>29.85</td>\n",
       "      <td>29.85</td>\n",
       "    </tr>\n",
       "    <tr>\n",
       "      <th>1</th>\n",
       "      <td>34</td>\n",
       "      <td>56.95</td>\n",
       "      <td>1889.50</td>\n",
       "    </tr>\n",
       "    <tr>\n",
       "      <th>2</th>\n",
       "      <td>2</td>\n",
       "      <td>53.85</td>\n",
       "      <td>108.15</td>\n",
       "    </tr>\n",
       "    <tr>\n",
       "      <th>3</th>\n",
       "      <td>45</td>\n",
       "      <td>42.30</td>\n",
       "      <td>1840.75</td>\n",
       "    </tr>\n",
       "    <tr>\n",
       "      <th>4</th>\n",
       "      <td>2</td>\n",
       "      <td>70.70</td>\n",
       "      <td>151.65</td>\n",
       "    </tr>\n",
       "  </tbody>\n",
       "</table>\n",
       "</div>"
      ],
      "text/plain": [
       "   tenure  MonthlyCharges  TotalCharges\n",
       "0       1           29.85         29.85\n",
       "1      34           56.95       1889.50\n",
       "2       2           53.85        108.15\n",
       "3      45           42.30       1840.75\n",
       "4       2           70.70        151.65"
      ]
     },
     "execution_count": 16,
     "metadata": {},
     "output_type": "execute_result"
    }
   ],
   "source": [
    "num_X.head()"
   ]
  },
  {
   "cell_type": "markdown",
   "metadata": {},
   "source": [
    "After doing a little bit of data cleaning (senior citizens was encoded as 0/1 instead of categorical labels) we find that there are three numerical data columns. These columns are the number of months the user is tenured, the monthly amount that person was charged, and the total amount that that person was charged leading up to this point of analysis. What we're interested in seeing is if the numerical data is normally distributed for any of these columns. Normal distribution implies that we can standardize the data which may improve model performance. In addition, normal data will allow us to use linear regression techniques that can't be used if the data isn't normal."
   ]
  },
  {
   "cell_type": "code",
   "execution_count": 17,
   "metadata": {
    "scrolled": true
   },
   "outputs": [
    {
     "data": {
      "image/png": "[encoded data removed]",
      "text/plain": [
       "<Figure size 1080x360 with 3 Axes>"
      ]
     },
     "metadata": {
      "needs_background": "light"
     },
     "output_type": "display_data"
    }
   ],
   "source": [
    "# Plot the numerical data\n",
    "\n",
    "bins = int(np.sqrt(len(num_X.tenure)))\n",
    "fig, axs = plt.subplots(1, 3, figsize=(15,5), sharey=True)\n",
    "\n",
    "_ = axs[0].hist(num_X.tenure, bins=bins)\n",
    "_ = axs[0].set_title('Months of Tenure Distribution')\n",
    "_ = axs[0].set_xlabel('Months of Tenure')\n",
    "\n",
    "_ = axs[1].hist(num_X.MonthlyCharges, bins=bins)\n",
    "_ = axs[1].set_title('Monthly Charge Distribution')\n",
    "_ = axs[1].set_xlabel('Monthly Charge Amount')\n",
    "\n",
    "_ = axs[2].hist(num_X.TotalCharges, bins=bins)\n",
    "_ = axs[2].set_title('Total Charge Distribution')\n",
    "_ = axs[2].set_xlabel('Total Charge Amount')\n",
    "\n",
    "_ = axs[0].set_ylabel('Frequency')\n",
    "_ = fig.suptitle('Numerical Data Distribution', y=1.03, fontsize=20)\n",
    "\n",
    "plt.show()"
   ]
  },
  {
   "cell_type": "markdown",
   "metadata": {},
   "source": [
    "Plotting the number of users against the numerical columns shows that none of these columns were normally distributed. The bimodal distribution for the months of tenure suggests that no possible transformation could make such a distribution normal. However, the monthly and total amounts charged to the user may be transformed into a normal distribution if we attempt a power reduction technique."
   ]
  },
  {
   "cell_type": "code",
   "execution_count": 18,
   "metadata": {
    "scrolled": true
   },
   "outputs": [
    {
     "data": {
      "image/png": "[encoded data removed]",
      "text/plain": [
       "<Figure size 1080x360 with 2 Axes>"
      ]
     },
     "metadata": {
      "needs_background": "light"
     },
     "output_type": "display_data"
    }
   ],
   "source": [
    "# Plot transformed numerical data\n",
    "\n",
    "bins = int(np.sqrt(len(num_X.tenure)))\n",
    "fig, axs = plt.subplots(1, 2, figsize=(15,5), sharey=True)\n",
    "\n",
    "_ = axs[0].hist(num_X.MonthlyCharges**(1/3), bins=bins)\n",
    "_ = axs[0].set_title('Transformed Monthly Charge Distribution')\n",
    "_ = axs[0].set_xlabel('1/3 Power Monthly Charge Amount')\n",
    "\n",
    "_ = axs[1].hist(num_X.TotalCharges**(1/3), bins=bins)\n",
    "_ = axs[1].set_title('Transformed Total Charge Distribution')\n",
    "_ = axs[1].set_xlabel('1/3 Power Total Charge Amount')\n",
    "\n",
    "_ = axs[0].set_ylabel('Frequency')\n",
    "_ = fig.suptitle('Transformed User Charge Amount Distributions', y=1.03, fontsize=20)\n",
    "\n",
    "plt.show()"
   ]
  },
  {
   "cell_type": "markdown",
   "metadata": {},
   "source": [
    "Using power reduction techniques didn't help with the non-normal data. The data is too sharply skewed right. Since the numerical data isn't normal, we'll have to use a model that's not sensitive to data normality like a random forest or neural network."
   ]
  },
  {
   "cell_type": "markdown",
   "metadata": {},
   "source": [
    "---"
   ]
  },
  {
   "cell_type": "markdown",
   "metadata": {},
   "source": [
    "## Save DataFrame to File"
   ]
  },
  {
   "cell_type": "code",
   "execution_count": 19,
   "metadata": {},
   "outputs": [
    {
     "data": {
      "text/plain": [
       "(7043, 48)"
      ]
     },
     "execution_count": 19,
     "metadata": {},
     "output_type": "execute_result"
    }
   ],
   "source": [
    "# Create a DataFrame including all the categorical features\n",
    "\n",
    "cat_X_all_feat['customerID'] = data['customerID']\n",
    "num_X['customerID'] = data['customerID']\n",
    "\n",
    "df_all_feat = cat_X_all_feat.merge(num_X, on='customerID')\n",
    "df_all_feat['churn'] = y\n",
    "df_all_feat.shape"
   ]
  },
  {
   "cell_type": "code",
   "execution_count": 20,
   "metadata": {
    "scrolled": true
   },
   "outputs": [
    {
     "name": "stderr",
     "output_type": "stream",
     "text": [
      "/Users/aldenchico/anaconda3/lib/python3.7/site-packages/ipykernel_launcher.py:1: SettingWithCopyWarning: \n",
      "A value is trying to be set on a copy of a slice from a DataFrame.\n",
      "Try using .loc[row_indexer,col_indexer] = value instead\n",
      "\n",
      "See the caveats in the documentation: http://pandas.pydata.org/pandas-docs/stable/indexing.html#indexing-view-versus-copy\n",
      "  \"\"\"Entry point for launching an IPython kernel.\n"
     ]
    },
    {
     "data": {
      "text/plain": [
       "(7043, 15)"
      ]
     },
     "execution_count": 20,
     "metadata": {},
     "output_type": "execute_result"
    }
   ],
   "source": [
    "# Create a DataFrame with the selected categorical features\n",
    "cat_X['customerID'] = data['customerID']\n",
    "\n",
    "df = cat_X.merge(num_X, on='customerID')\n",
    "df['churn'] = y\n",
    "df.shape"
   ]
  },
  {
   "cell_type": "code",
   "execution_count": 21,
   "metadata": {},
   "outputs": [],
   "source": [
    "df_all_feat.to_csv('output/2-EDA/all_features_telco.csv')\n",
    "df.to_csv('output/2-EDA/clean_telco.csv')"
   ]
  },
  {
   "cell_type": "markdown",
   "metadata": {},
   "source": [
    "Now that we're done analyzing and cleaning the Telco customer data, we can create two separate CSV files for the non-feature selected and feature selected datasets. We'll use these datasets to build predictive models that can flag whether or not a customer will churn. For the next article, we'll build compare different classifiers and determine which model is the most appropriate for Telco to release for distribution."
   ]
  }
 ],
 "metadata": {
  "kernelspec": {
   "display_name": "Python 3",
   "language": "python",
   "name": "python3"
  },
  "language_info": {
   "codemirror_mode": {
    "name": "ipython",
    "version": 3
   },
   "file_extension": ".py",
   "mimetype": "text/x-python",
   "name": "python",
   "nbconvert_exporter": "python",
   "pygments_lexer": "ipython3",
   "version": "3.7.3"
  }
 },
 "nbformat": 4,
 "nbformat_minor": 2
}

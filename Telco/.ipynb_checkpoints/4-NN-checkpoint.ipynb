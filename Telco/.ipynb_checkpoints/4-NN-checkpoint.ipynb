{
 "cells": [
  {
   "cell_type": "markdown",
   "metadata": {},
   "source": [
    "# 4 - Telco Customer Churn: Neural Network\n",
    "## Predictive Neural Network\n",
    "### Alden Chico"
   ]
  },
  {
   "cell_type": "markdown",
   "metadata": {},
   "source": [
    "---"
   ]
  },
  {
   "cell_type": "markdown",
   "metadata": {},
   "source": [
    "## Premise"
   ]
  },
  {
   "cell_type": "markdown",
   "metadata": {},
   "source": [
    "---"
   ]
  },
  {
   "cell_type": "markdown",
   "metadata": {},
   "source": [
    "## Import Data"
   ]
  },
  {
   "cell_type": "code",
   "execution_count": 1,
   "metadata": {},
   "outputs": [],
   "source": [
    "import numpy as np\n",
    "import pandas as pd"
   ]
  },
  {
   "cell_type": "code",
   "execution_count": 2,
   "metadata": {},
   "outputs": [],
   "source": [
    "# Import the Telco churn dataset with selected OHE features from CSV file\n",
    "data_clean = pd.read_csv('output/2-EDA/clean_telco.csv', index_col='customerID')\n",
    "data_clean = data_clean.drop('Unnamed: 0', axis=1)"
   ]
  },
  {
   "cell_type": "code",
   "execution_count": 3,
   "metadata": {},
   "outputs": [
    {
     "name": "stdout",
     "output_type": "stream",
     "text": [
      "No. of columns in selected OHE column Dataset: 13\n"
     ]
    }
   ],
   "source": [
    "# Save all the predictors/target columns as numpy arrays for Keras\n",
    "y_clean = data_clean['churn']\n",
    "predictors_clean = data_clean.drop('churn', axis=1).values\n",
    "n_cols_clean = predictors_clean.shape[1]\n",
    "\n",
    "print(f'No. of columns in selected OHE column Dataset: {n_cols_clean}')"
   ]
  },
  {
   "cell_type": "code",
   "execution_count": 4,
   "metadata": {},
   "outputs": [],
   "source": [
    "# Train-Test split the two datasets\n",
    "from sklearn.model_selection import train_test_split\n",
    "X_train_clean, X_test_clean, y_train_clean, y_test_clean = train_test_split(predictors_clean, \n",
    "                                                                            y_clean,\n",
    "                                                                            test_size=0.2,\n",
    "                                                                            random_state=42)"
   ]
  },
  {
   "cell_type": "markdown",
   "metadata": {},
   "source": [
    "---"
   ]
  },
  {
   "cell_type": "markdown",
   "metadata": {},
   "source": [
    "## Create Helper Functions to Create Neural Network"
   ]
  },
  {
   "cell_type": "code",
   "execution_count": 5,
   "metadata": {},
   "outputs": [
    {
     "name": "stderr",
     "output_type": "stream",
     "text": [
      "Using TensorFlow backend.\n"
     ]
    }
   ],
   "source": [
    "# Baseline neural network layer\n",
    "from keras.layers import Dense\n",
    "from keras.models import Sequential\n",
    "def create_baseline_model(n_units, n_cols):\n",
    "    model = Sequential()\n",
    "    model.add(Dense(n_units, activation='relu', input_shape=(n_cols, )))\n",
    "    return model"
   ]
  },
  {
   "cell_type": "code",
   "execution_count": 6,
   "metadata": {},
   "outputs": [],
   "source": [
    "# Adds fully connected layers with specified amount of neurons\n",
    "def add_model_layers(model, neurons):\n",
    "    for neuron in neurons:\n",
    "        model.add(Dense(neuron), activation='relu')"
   ]
  },
  {
   "cell_type": "code",
   "execution_count": 7,
   "metadata": {},
   "outputs": [],
   "source": [
    "# Adds the final model layer and compiles\n",
    "def finish_model(model):\n",
    "    model.add(Dense(1, activation='sigmoid'))\n",
    "    model.compile(loss='binary_crossentropy', optimizer='adam', metrics=['accuracy'])"
   ]
  },
  {
   "cell_type": "code",
   "execution_count": 8,
   "metadata": {},
   "outputs": [],
   "source": [
    "# Activates output to prediction since sigmoid output is between 0 and 1\n",
    "def activate_output(y_pred):\n",
    "    activ_y = []\n",
    "    for y in y_pred:\n",
    "        if y < 0.5:\n",
    "            activ_y.append(0)\n",
    "        else:\n",
    "            activ_y.append(1)\n",
    "    return activ_y"
   ]
  },
  {
   "cell_type": "markdown",
   "metadata": {},
   "source": [
    "---"
   ]
  },
  {
   "cell_type": "markdown",
   "metadata": {},
   "source": [
    "## Results Function"
   ]
  },
  {
   "cell_type": "code",
   "execution_count": 9,
   "metadata": {},
   "outputs": [],
   "source": [
    "# Function that plots confusion matrix / classification report after making predictions\n",
    "import matplotlib.pyplot as plt\n",
    "%matplotlib inline\n",
    "import seaborn as sns\n",
    "from sklearn.metrics import classification_report, confusion_matrix\n",
    "\n",
    "def plot_results(y_test, y_pred, output_dict=False):\n",
    "    conf_mat = confusion_matrix(y_test, y_pred)\n",
    "    cm_df = pd.DataFrame(conf_mat, index = ['Did Not Churn', 'Churn'],\n",
    "                      columns = ['Did Not Churn', 'Churn'])\n",
    "    _ = sns.heatmap(cm_df, annot=True, cmap='Blues', fmt='g')\n",
    "    _ = plt.title('Churn Confusion Matrix', fontsize=20)\n",
    "    _ = plt.ylabel('True', fontsize=14)\n",
    "    _ = plt.xlabel('Predicted', fontsize=14)\n",
    "    _ = plt.show()\n",
    "    print(classification_report(y_test, y_pred, output_dict=output_dict))"
   ]
  },
  {
   "cell_type": "markdown",
   "metadata": {},
   "source": [
    "---"
   ]
  },
  {
   "cell_type": "markdown",
   "metadata": {},
   "source": [
    "## Evaluate and Test Baseline Model"
   ]
  },
  {
   "cell_type": "code",
   "execution_count": 10,
   "metadata": {
    "scrolled": true
   },
   "outputs": [
    {
     "name": "stdout",
     "output_type": "stream",
     "text": [
      "WARNING:tensorflow:From /Users/aldenchico/anaconda3/envs/telco/lib/python3.7/site-packages/keras/backend/tensorflow_backend.py:74: The name tf.get_default_graph is deprecated. Please use tf.compat.v1.get_default_graph instead.\n",
      "\n",
      "WARNING:tensorflow:From /Users/aldenchico/anaconda3/envs/telco/lib/python3.7/site-packages/keras/backend/tensorflow_backend.py:517: The name tf.placeholder is deprecated. Please use tf.compat.v1.placeholder instead.\n",
      "\n",
      "WARNING:tensorflow:From /Users/aldenchico/anaconda3/envs/telco/lib/python3.7/site-packages/keras/backend/tensorflow_backend.py:4138: The name tf.random_uniform is deprecated. Please use tf.random.uniform instead.\n",
      "\n",
      "WARNING:tensorflow:From /Users/aldenchico/anaconda3/envs/telco/lib/python3.7/site-packages/keras/optimizers.py:790: The name tf.train.Optimizer is deprecated. Please use tf.compat.v1.train.Optimizer instead.\n",
      "\n",
      "WARNING:tensorflow:From /Users/aldenchico/anaconda3/envs/telco/lib/python3.7/site-packages/keras/backend/tensorflow_backend.py:3376: The name tf.log is deprecated. Please use tf.math.log instead.\n",
      "\n",
      "WARNING:tensorflow:From /Users/aldenchico/anaconda3/envs/telco/lib/python3.7/site-packages/tensorflow_core/python/ops/nn_impl.py:183: where (from tensorflow.python.ops.array_ops) is deprecated and will be removed in a future version.\n",
      "Instructions for updating:\n",
      "Use tf.where in 2.0, which has the same broadcast rule as np.where\n",
      "WARNING:tensorflow:From /Users/aldenchico/anaconda3/envs/telco/lib/python3.7/site-packages/keras/backend/tensorflow_backend.py:986: The name tf.assign_add is deprecated. Please use tf.compat.v1.assign_add instead.\n",
      "\n",
      "WARNING:tensorflow:From /Users/aldenchico/anaconda3/envs/telco/lib/python3.7/site-packages/keras/backend/tensorflow_backend.py:973: The name tf.assign is deprecated. Please use tf.compat.v1.assign instead.\n",
      "\n",
      "WARNING:tensorflow:From /Users/aldenchico/anaconda3/envs/telco/lib/python3.7/site-packages/keras/backend/tensorflow_backend.py:2741: The name tf.Session is deprecated. Please use tf.compat.v1.Session instead.\n",
      "\n",
      "WARNING:tensorflow:From /Users/aldenchico/anaconda3/envs/telco/lib/python3.7/site-packages/keras/backend/tensorflow_backend.py:174: The name tf.get_default_session is deprecated. Please use tf.compat.v1.get_default_session instead.\n",
      "\n",
      "WARNING:tensorflow:From /Users/aldenchico/anaconda3/envs/telco/lib/python3.7/site-packages/keras/backend/tensorflow_backend.py:181: The name tf.ConfigProto is deprecated. Please use tf.compat.v1.ConfigProto instead.\n",
      "\n",
      "WARNING:tensorflow:From /Users/aldenchico/anaconda3/envs/telco/lib/python3.7/site-packages/keras/backend/tensorflow_backend.py:190: The name tf.global_variables is deprecated. Please use tf.compat.v1.global_variables instead.\n",
      "\n",
      "WARNING:tensorflow:From /Users/aldenchico/anaconda3/envs/telco/lib/python3.7/site-packages/keras/backend/tensorflow_backend.py:199: The name tf.is_variable_initialized is deprecated. Please use tf.compat.v1.is_variable_initialized instead.\n",
      "\n",
      "WARNING:tensorflow:From /Users/aldenchico/anaconda3/envs/telco/lib/python3.7/site-packages/keras/backend/tensorflow_backend.py:206: The name tf.variables_initializer is deprecated. Please use tf.compat.v1.variables_initializer instead.\n",
      "\n",
      "Accuracy: 79.19%\n",
      "Accuracy: 77.37%\n",
      "Accuracy: 81.14%\n",
      "79.23% (+/- 1.54%)\n"
     ]
    }
   ],
   "source": [
    "# Performs 3-Fold CV on baseline model\n",
    "from sklearn.model_selection import StratifiedKFold\n",
    "\n",
    "kfold = StratifiedKFold(n_splits=3, shuffle=True, random_state=42)\n",
    "cv_scores=[]\n",
    "for train, test in kfold.split(X_train_clean, y_train_clean):\n",
    "    model = create_baseline_model(n_units=n_cols_clean, n_cols=n_cols_clean)\n",
    "    _ = finish_model(model)\n",
    "    model.fit(X_train_clean[train], y_train_clean[train], epochs=25, batch_size=10, verbose=False)\n",
    "    scores = model.evaluate(X_train_clean[test], y_train_clean[test], verbose=False)\n",
    "    print(f\"Accuracy: {scores[1]*100:.2f}%\")\n",
    "    cv_scores.append(scores[1] * 100)\n",
    "print(f\"{np.mean(cv_scores):.2f}% (+/- {np.std(cv_scores):.2f}%)\")"
   ]
  },
  {
   "cell_type": "code",
   "execution_count": 11,
   "metadata": {},
   "outputs": [
    {
     "data": {
      "image/png": "[encoded data removed]",
      "text/plain": [
       "<Figure size 432x288 with 2 Axes>"
      ]
     },
     "metadata": {
      "needs_background": "light"
     },
     "output_type": "display_data"
    },
    {
     "name": "stdout",
     "output_type": "stream",
     "text": [
      "              precision    recall  f1-score   support\n",
      "\n",
      "           0       0.83      0.90      0.86      1036\n",
      "           1       0.62      0.47      0.54       373\n",
      "\n",
      "    accuracy                           0.78      1409\n",
      "   macro avg       0.72      0.69      0.70      1409\n",
      "weighted avg       0.77      0.78      0.77      1409\n",
      "\n"
     ]
    }
   ],
   "source": [
    "# Deploys baseline model to testing data for final evaluation\n",
    "\n",
    "# Fit baseline model to all training data\n",
    "model = create_baseline_model(n_units=n_cols_clean, n_cols=n_cols_clean)\n",
    "_ = finish_model(model)\n",
    "model.fit(X_train_clean, y_train_clean, epochs=25, batch_size=10, verbose=False)\n",
    "\n",
    "# Make predictions on training data and print classification report\n",
    "y_pred_base = activate_output(model.predict(X_test_clean))\n",
    "_ = plot_results(y_test_clean, y_pred_base)"
   ]
  },
  {
   "cell_type": "code",
   "execution_count": null,
   "metadata": {},
   "outputs": [],
   "source": []
  }
 ],
 "metadata": {
  "kernelspec": {
   "display_name": "Python [conda env:telco]",
   "language": "python",
   "name": "conda-env-telco-py"
  },
  "language_info": {
   "codemirror_mode": {
    "name": "ipython",
    "version": 3
   },
   "file_extension": ".py",
   "mimetype": "text/x-python",
   "name": "python",
   "nbconvert_exporter": "python",
   "pygments_lexer": "ipython3",
   "version": "3.7.5"
  }
 },
 "nbformat": 4,
 "nbformat_minor": 2
}

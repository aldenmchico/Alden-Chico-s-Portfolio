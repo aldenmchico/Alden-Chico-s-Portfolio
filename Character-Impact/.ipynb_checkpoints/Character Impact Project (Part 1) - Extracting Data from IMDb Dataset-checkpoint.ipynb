{
 "cells": [
  {
   "cell_type": "code",
   "execution_count": 1,
   "metadata": {},
   "outputs": [],
   "source": [
    "import os\n",
    "import gzip\n",
    "import csv\n",
    "\n",
    "from urllib.request import urlretrieve"
   ]
  },
  {
   "cell_type": "code",
   "execution_count": 2,
   "metadata": {},
   "outputs": [],
   "source": [
    "path = 'imdb_datasets'\n",
    "try:\n",
    "    os.mkdir(path)\n",
    "except FileExistsError:\n",
    "    pass\n",
    "\n",
    "url = 'https://datasets.imdbws.com/'\n",
    "imdb_datasets = ['title.episode.tsv.gz', 'title.basics.tsv.gz', 'title.principals.tsv.gz', 'title.ratings.tsv.gz']\n",
    "tsv_contents = {}\n",
    "for dataset in imdb_datasets:\n",
    "    \n",
    "    # Download the IMDb dataset's .gz file from the Internet\n",
    "    urlretrieve(url, dataset)\n",
    "    \n",
    "    # Move the .gz file to the imdb_datasets directory\n",
    "    file_path = path + '/' + dataset\n",
    "    os.rename(dataset, file_path)\n",
    "    \n",
    "    # Extract the contents from the .gz file\n",
    "    os.chdir(path)\n",
    "    with gzip.open(dataset, 'rb') as f:\n",
    "        pass\n",
    "        #f_content = f.read()\n",
    "    \n",
    "    # Move back into the parent directory for next download\n",
    "    os.chdir('..')"
   ]
  },
  {
   "cell_type": "code",
   "execution_count": 9,
   "metadata": {},
   "outputs": [
    {
     "name": "stdout",
     "output_type": "stream",
     "text": [
      "b'<html>\\n\\n  <head>\\n\\n    <meta name=\"robots\" content=\"noindex\">\\n\\n  </head>\\n\\n  <body>\\n\\n    <h3>IMDb data files available for download</h3>\\n\\nDocumentation for these data files can be found on <a href=http://www.imdb.com/interfaces/> http://www.imdb.com/interfaces/ </a>\\n\\n    <ul><a href=https://datasets.imdbws.com/name.basics.tsv.gz>name.basics.tsv.gz</a></ul>\\n\\n    <ul><a href=https://datasets.imdbws.com/title.akas.tsv.gz>title.akas.tsv.gz</a></ul>\\n\\n    <ul><a href=https://datasets.imdbws.com/title.basics.tsv.gz>title.basics.tsv.gz</a></ul>\\n\\n    <ul><a href=https://datasets.imdbws.com/title.crew.tsv.gz>title.crew.tsv.gz</a></ul>\\n\\n    <ul><a href=https://datasets.imdbws.com/title.episode.tsv.gz>title.episode.tsv.gz</a></ul>\\n\\n    <ul><a href=https://datasets.imdbws.com/title.principals.tsv.gz>title.principals.tsv.gz</a></ul>\\n\\n    <ul><a href=https://datasets.imdbws.com/title.ratings.tsv.gz>title.ratings.tsv.gz</a></ul>\\n\\n  </body>\\n\\n</html>\\n'\n"
     ]
    }
   ],
   "source": [
    "f = open('title.episode.tsv.gz', 'rb')\n",
    "print(f.read(1000))\n",
    "f.close()\n",
    "#with gzip.open('title.episode.tsv.gz', 'rb') as f:\n",
    "    #f_content = f.read()"
   ]
  },
  {
   "cell_type": "code",
   "execution_count": null,
   "metadata": {},
   "outputs": [],
   "source": []
  }
 ],
 "metadata": {
  "kernelspec": {
   "display_name": "Python 3",
   "language": "python",
   "name": "python3"
  },
  "language_info": {
   "codemirror_mode": {
    "name": "ipython",
    "version": 3
   },
   "file_extension": ".py",
   "mimetype": "text/x-python",
   "name": "python",
   "nbconvert_exporter": "python",
   "pygments_lexer": "ipython3",
   "version": "3.7.3"
  }
 },
 "nbformat": 4,
 "nbformat_minor": 2
}

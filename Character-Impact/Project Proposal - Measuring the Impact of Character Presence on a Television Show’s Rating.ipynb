{
 "cells": [
  {
   "cell_type": "markdown",
   "metadata": {},
   "source": [
    "# Measuring the Impact of Character Presence on a Television Show’s Ratings\n",
    "## Project Proposal\n",
    "### Alden Chico"
   ]
  },
  {
   "cell_type": "markdown",
   "metadata": {},
   "source": [
    "----"
   ]
  },
  {
   "cell_type": "markdown",
   "metadata": {},
   "source": [
    "**Problem**\n",
    "\n",
    "The value of the entertainment industry in 2014 was \\\\$537.5 billion dollars with the projected growth of the industry reaching \\\\$720.8 billion dollars in 2020 (1). In order to maximize the value of televised intellectual property, television networks need to create compelling storylines for people to watch their shows in order to vie for continued season renewal. One metric to gauge storyline engagement to positive audience reception towards the show is a character’s screen time. The screen time a character has during an episode of the show illustrates how much focus the series is putting on that character for that individual episode. The Internet Movie Database (IMDb) stores user ratings for each episode of a television series. Relating IMDb’s user rating information to a television show’s characters’ on screen time would be useful information for television show producers to have to make more informed decisions about character focus for successive seasons of the show. \n",
    "\n",
    "With that in mind, for my project I am going to make a software that can identify when characters are on the screen during a television episode. I will then relate character screen time during an episode to that episode’s user ratings. From there, I will gather insights about how individual characters in the show impact the show’s ratings.\n"
   ]
  },
  {
   "cell_type": "markdown",
   "metadata": {},
   "source": [
    "----"
   ]
  },
  {
   "cell_type": "markdown",
   "metadata": {},
   "source": [
    "**Data**\n",
    "\n",
    "The data for this project comes in two sections. The first set of data I will need to collect for this project comes from IMDb’s user rating website. The database files for the IMDb come in the form of .tsv files, so I will need to download these files and perform filtering operations to create a table that shows each episode of a television season and its corresponding user ratings.\n",
    "\n",
    " For testing purposes, I will use episodes of Season One of The Office (USA). I am using this series as my test case because there are only 17 main and supporting characters shown on screen throughout the entire season. Also, the first season only contains six episodes which is a reasonably sized test case for this project. The concepts employed for this project can be used on any television series across any number of episodes per season.\n",
    "\n",
    "\n",
    "The second set of data I will need to collect are pictures of each character in The Office. I will use this data to train a facial algorithm that can identify when the characters on the show are present on screen. To test this algorithm, I will download the first season of The Office and draw a green box on screen during the episode where the algorithm believes a character is on screen. The data collected from this step will come in the form of character screen time during the episode.\n"
   ]
  },
  {
   "cell_type": "markdown",
   "metadata": {},
   "source": [
    "----"
   ]
  },
  {
   "cell_type": "markdown",
   "metadata": {},
   "source": [
    "**Method**\n",
    "\n",
    "1. Prepare television episode data and user ratings for the first season of The Office from the IMDb dataset.\n",
    "2. Collect pictures of every character from The Office and organize them into training and prediction picture sets.\n",
    "3. Use Python’s OpenCV to create an algorithm that will take the set of training pictures and identify them by their respective labels.\n",
    "4. Check for algorithm proficiency by labeling pictures from the prediction picture set.\n",
    "5. Use the algorithm to draw a graphical box and label around each characters’ faces using an mp4 video file of The Office.\n",
    "6. Watch the episode with the labelled boxes to gauge for algorithm proficiency.\n",
    "7. Create a data structure that associates each character’s name and screen time.\n",
    "8. Relate the data taking from labeling characters during an episode with the episode data taken from IMDb’s website.\n",
    "9. Prepare visualizations to show insights on character screen time and episode rating.\n"
   ]
  },
  {
   "cell_type": "markdown",
   "metadata": {},
   "source": [
    "----"
   ]
  },
  {
   "cell_type": "markdown",
   "metadata": {},
   "source": [
    "**Deliverable**\n",
    "\n",
    "I plan to deliver my progress through the project using blog posts posted on Github Pages and code on Jupyter Notebooks. The final blog post will bring together my insights on how individual character’s presence during The Office affects the overall show’s ratings.\n"
   ]
  },
  {
   "cell_type": "markdown",
   "metadata": {},
   "source": [
    "----"
   ]
  },
  {
   "cell_type": "markdown",
   "metadata": {},
   "source": [
    "**Appendix**\n",
    "\n",
    "(1) https://www.statista.com/statistics/237769/value-of-the-us-entertainment-and-media-market/"
   ]
  },
  {
   "cell_type": "markdown",
   "metadata": {},
   "source": [
    "----"
   ]
  }
 ],
 "metadata": {
  "kernelspec": {
   "display_name": "Python 3",
   "language": "python",
   "name": "python3"
  },
  "language_info": {
   "codemirror_mode": {
    "name": "ipython",
    "version": 3
   },
   "file_extension": ".py",
   "mimetype": "text/x-python",
   "name": "python",
   "nbconvert_exporter": "python",
   "pygments_lexer": "ipython3",
   "version": "3.7.3"
  }
 },
 "nbformat": 4,
 "nbformat_minor": 2
}

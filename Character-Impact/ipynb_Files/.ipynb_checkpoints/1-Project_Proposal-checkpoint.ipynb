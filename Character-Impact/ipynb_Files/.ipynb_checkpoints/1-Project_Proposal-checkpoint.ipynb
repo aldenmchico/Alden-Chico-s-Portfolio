{
 "cells": [
  {
   "cell_type": "markdown",
   "metadata": {},
   "source": [
    "# Measuring Characters' Screen Time from <i>The Office</i> and Their Impact on TV Show Ratings\n",
    "## Project Proposal \n",
    "### Alden Chico\""
   ]
  },
  {
   "cell_type": "markdown",
   "metadata": {},
   "source": [
    "## Problem\n",
    "\n",
    "The value of the entertainment industry in 2014 was estimated at \\\\$537.5 billion dollars with the projected growth of the industry reaching \\$720.8 billion dollars by 2020 (1). In order to maximize the value of televised intellectual property, television networks need to create compelling storylines in their shows to vie for continued season renewal. \n",
    "\n",
    "Measuring character screen time would be a useful numeric metric to gauge how much emphasis the show is putting on each character. Furthermore, the Internet Movie Database (IMDb) stores user ratings online for each episode of a television series. So relating these two metrics on each episode of a season would be a useful tool for television show producers to make more informed decisions about character focus for successive seasons of the show.\n",
    "\n",
    "<figure>\n",
    "<img src=\"https://raw.githubusercontent.com/aldenmchico/Alden-Chicos-Portfolio/master/Character-Impact/ipynb_Files/reference/1-Project_Proposal/Statista-Entertainment-Chart.png\" alt=\"Figure 1 - Value of the Entertainment and Media Market From 2011-2020 (in Billion USD)\" class=\"center\" style=\"width:449px;height:300px;\">\n",
    "<figcaption><center><b>Figure 1 - Value of the Entertainment and Media Market From 2011-2020 (in Billion USD)</b></center></figcaption>\n",
    "</figure>\n",
    "\n",
    "For my project I'm going to develop software that can identify when characters are on the screen during episodes of <i>The Office</i>. I'll then relate character screen time during each episode to the episode’s user ratings and gather insights on how each character affects audience reception towards the show.\n",
    "\n",
    "\n"
   ]
  },
  {
   "cell_type": "markdown",
   "metadata": {},
   "source": [
    "----"
   ]
  },
  {
   "cell_type": "markdown",
   "metadata": {},
   "source": [
    "## Data\n",
    "\n",
    "The data for this project comes in two sections. The first set of data I'll need to collect for this project comes from IMDb’s website. The IMDb updates their data files daily and makes them available for commercial and public use. So in order to complete this project, I'll perform filtering operations on these data sets to create a table that shows each episode of Season One of <i>The Office</i> alongside their corresponding user ratings.\n",
    "\n",
    "For testing purposes, I'm using episodes of Season One of <i>The Office (USA)</i> because:\n",
    "\n",
    "1. There's a small number of main and supporting cast members shown on screen throughout the entire season. \n",
    "\n",
    "2. The first season only contains six episodes which is a reasonably sized test case for this project. \n",
    "\n",
    "3. <i> The Office </i> is a popular TV show that millions of people know and love.\n",
    "\n",
    "<figure>\n",
    "<img src=\"https://raw.githubusercontent.com/aldenmchico/Alden-Chicos-Portfolio/master/Character-Impact/ipynb_Files/reference/1-Project_Proposal/Michael%20Scott%20Laughing.jpg\" alt=\"Everyone Loves The Office!\" class=\"center\">\n",
    "<figcaption><center><b>Everyone Loves The Office!</b></center></figcaption>\n",
    "</figure> \n",
    "\n",
    "The second set of data I'll need to collect are pictures of each character in <i>The Office</i>. I'll use this data to train a facial algorithm that can identify characters when they're present on screen. After I train my algorithm, I'll first test it against other pictures of the actors/actresses and then test it against episodes of <i> The Office </i> to see if the facial recognition works properly.\n"
   ]
  },
  {
   "cell_type": "markdown",
   "metadata": {},
   "source": [
    "----"
   ]
  },
  {
   "cell_type": "markdown",
   "metadata": {},
   "source": [
    "## Method\n",
    "\n",
    "1. Prepare television episode and user rating data from the first season of <i>The Office</i>.\n",
    "2. Collect pictures of every character from <i>The Office</i> to train the facial recognition algorithm.\n",
    "3. Test facial recognition on characters from <i>The Office</i> by labelling their faces on pictures.\n",
    "4. Use the algorithm on video files from <i>The Office</i> and label the characters as they appear on screen.\n",
    "5. Gather each character's screen time and relate that information with the episode data from IMDb's website.\n",
    "6. Relay insights on Season One of <i>The Office</i> to make informed decisions on the direction to take the show for Season Two.\n",
    "\n",
    "<figure>\n",
    "<img src=\"https://raw.githubusercontent.com/aldenmchico/Alden-Chicos-Portfolio/master/Character-Impact/ipynb_Files/reference/1-Project_Proposal/Michael%20Excited.png\" alt=\"Facial Recognition Technology is EXCITING\" class=\"center\" style=\"width:423px;height:300px;\">\n",
    "<figcaption><center><b>Figure 1 - Value of the Entertainment and Media Market From 2011-2020 (in Billion USD)</b></center></figcaption>\n",
    "</figure>"
   ]
  },
  {
   "cell_type": "markdown",
   "metadata": {},
   "source": [
    "----"
   ]
  },
  {
   "cell_type": "markdown",
   "metadata": {},
   "source": [
    "## Deliverable\n",
    "\n",
    "I plan to update my progress through the project through my Github Pages blog powered by Jupyter Notebooks. The final blog post will bring together my insights on how characters in <i> The Office </i> affects the overall show’s ratings.\n"
   ]
  },
  {
   "cell_type": "markdown",
   "metadata": {},
   "source": [
    "----"
   ]
  },
  {
   "cell_type": "markdown",
   "metadata": {},
   "source": [
    "**Appendix**\n",
    "\n",
    "(1) https://www.statista.com/statistics/237769/value-of-the-us-entertainment-and-media-market/"
   ]
  },
  {
   "cell_type": "markdown",
   "metadata": {},
   "source": [
    "----"
   ]
  }
 ],
 "metadata": {
  "kernelspec": {
   "display_name": "Python 3",
   "language": "python",
   "name": "python3"
  },
  "language_info": {
   "codemirror_mode": {
    "name": "ipython",
    "version": 3
   },
   "file_extension": ".py",
   "mimetype": "text/x-python",
   "name": "python",
   "nbconvert_exporter": "python",
   "pygments_lexer": "ipython3",
   "version": "3.7.3"
  }
 },
 "nbformat": 4,
 "nbformat_minor": 2
}
